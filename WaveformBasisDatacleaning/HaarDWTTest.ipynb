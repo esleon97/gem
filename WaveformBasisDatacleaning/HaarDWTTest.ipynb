{
 "cells": [
  {
   "cell_type": "code",
   "execution_count": 1,
   "metadata": {},
   "outputs": [],
   "source": [
    "import numpy as np\n",
    "import scipy as sp\n",
    "import pywt\n",
    "import math\n",
    "from sklearn.manifold import TSNE\n",
    "import matplotlib.pyplot as plt\n",
    "from sklearn.mixture import GaussianMixture\n",
    "from sklearn.cluster import AffinityPropagation"
   ]
  },
  {
   "cell_type": "code",
   "execution_count": null,
   "metadata": {},
   "outputs": [],
   "source": [
    "#Read in waveform and perform Haar wavelet decomposition\n",
    "wfbase = np.load(\"g032_waveforms_phys.npy\")\n",
    "result = pywt.wavedec(wfbase,'haar',level=3)\n",
    "print(len(result))"
   ]
  },
  {
   "cell_type": "code",
   "execution_count": null,
   "metadata": {},
   "outputs": [],
   "source": [
    "#Look at the effect of waveform reconstruction (inverse Haar wavelet transform)\n",
    "wf_display = wfbase[23]\n",
    "result2 = pywt.dwt(wf_display,'haar')\n",
    "wf_recon = pywt.idwt(result2[0],result2[1], 'haar')\n",
    "plt.plot(wf_display, label=\"Original Waveform\")\n",
    "plt.plot(wf_recon,linestyle=\"-\", label=\"Reconstructed Waveform\")\n",
    "plt.legend()"
   ]
  },
  {
   "cell_type": "code",
   "execution_count": null,
   "metadata": {},
   "outputs": [],
   "source": [
    "#Look at the effect of waveform reconstruction with or without the detailed coefficient\n",
    "plt.plot(pywt.idwt(result2[0],None, 'haar'), label=\"No Detailed Coefficient\")\n",
    "plt.plot(pywt.idwt(result2[0],result2[1], 'haar'),alpha=0.5, label=\"With Detailed Coefficient\")\n",
    "plt.legend()\n",
    "plt.xlim(0,100)\n",
    "plt.ylim(-0.06,0.06)"
   ]
  },
  {
   "cell_type": "code",
   "execution_count": null,
   "metadata": {},
   "outputs": [],
   "source": [
    "# Make t-SNE plot of all coefficients (approximate and detailed) to look at their distributions\n",
    "plt.figure(figsize=(20,20))\n",
    "for i in range(len(result)):\n",
    "    pindex = 331 + i\n",
    "    plt.subplot(pindex)\n",
    "    X_embedded = TSNE(n_components=2).fit_transform(result[i][:1000])\n",
    "    if i == 0:\n",
    "        lb = \"Approximation Coefficient\"\n",
    "    else:\n",
    "        lb = \"Detailed Coefficient Level %d\"%(i)\n",
    "    plt.scatter(X_embedded[:,0], X_embedded[:,1], label=lb, color=\"red\")\n",
    "    plt.legend()"
   ]
  },
  {
   "cell_type": "code",
   "execution_count": null,
   "metadata": {},
   "outputs": [],
   "source": [
    "#Load the waveform again\n",
    "wfbase = np.load(\"g032_waveforms_phys.npy\")\n",
    "result = pywt.wavedec(wfbase,'haar',level=3)"
   ]
  },
  {
   "cell_type": "code",
   "execution_count": null,
   "metadata": {},
   "outputs": [],
   "source": [
    "#Apply Affinity Propagation to the approximate coefficient of HaarDWT result\n",
    "\n",
    "# normalizing waveform with a scipy scaler: commented out because it doesn't perform very well\n",
    "# from sklearn.preprocessing import StandardScaler, RobustScaler\n",
    "# scaled_ac = StandardScaler().fit_transform(result[0])\n",
    "\n",
    "plt.figure(figsize=(30,30))\n",
    "ap = AffinityPropagation(max_iter=500).fit(X=result[0])\n",
    "nwave = len(ap.cluster_centers_indices_)\n",
    "print(nwave)\n",
    "for j in range(len(ap.cluster_centers_indices_)):\n",
    "    plt.subplot(math.ceil((nwave)**0.5),math.ceil((nwave)**0.5),j+1)\n",
    "    #min_index = np.argmin(np.linalg.norm(result[0] - np.repeat(X[j].reshape(1,-1), result[0].shape[0], axis=0),ord=2,axis=1))\n",
    "    coeffl = [res[ap.cluster_centers_indices_[j]] for res in result]\n",
    "    #coeffl[0] = X[j]\n",
    "    wf_recon = pywt.waverec(coeffl, 'haar')\n",
    "    plt.plot(wf_recon,linestyle=\"-\", label=\"Reconstructed Waveform\")\n",
    "plt.savefig(\"exemplar.png\")"
   ]
  },
  {
   "cell_type": "code",
   "execution_count": null,
   "metadata": {},
   "outputs": [],
   "source": []
  }
 ],
 "metadata": {
  "kernelspec": {
   "display_name": "Python 3",
   "language": "python",
   "name": "python3"
  },
  "language_info": {
   "codemirror_mode": {
    "name": "ipython",
    "version": 3
   },
   "file_extension": ".py",
   "mimetype": "text/x-python",
   "name": "python",
   "nbconvert_exporter": "python",
   "pygments_lexer": "ipython3",
   "version": "3.8.5"
  }
 },
 "nbformat": 4,
 "nbformat_minor": 4
}
