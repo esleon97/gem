{
 "cells": [
  {
   "cell_type": "code",
   "execution_count": 1,
   "metadata": {},
   "outputs": [],
   "source": [
    "#Load modules\n",
    "\n",
    "import time, pickle\n",
    "import numpy as np\n",
    "from sklearn.svm import SVC\n",
    "from sklearn.manifold import TSNE"
   ]
  },
  {
   "cell_type": "code",
   "execution_count": 2,
   "metadata": {},
   "outputs": [
    {
     "data": {
      "text/plain": [
       "{'wf_mins': array([14966., 14977., 14947., ..., 14730., 14714., 14787.], dtype=float32),\n",
       " 'wf_maxs': array([15349., 15341., 15374., ..., 14873., 14882., 14967.], dtype=float32),\n",
       " 'tp_0s': array([  6896.,  53824.,   3968., ...,  92448.,  88080., 118912.],\n",
       "       dtype=float32),\n",
       " 'rt_10_50s': array([0., 0., 0., ..., 0., 0., 0.], dtype=float32),\n",
       " 'rt_10_90s': array([0., 0., 0., ..., 0., 0., 0.], dtype=float32),\n",
       " 'dt_effs': array([  498.63953, -1231.9147 ,   472.8534 , ...,  1368.5818 ,\n",
       "        -2857.7598 ,  -412.42508], dtype=float32),\n",
       " 'dwts': array([[ -24.588531 ,  -42.266205 ,   20.843079 , ...,   -5.1430855,\n",
       "           -9.739292 ,  -37.316444 ],\n",
       "        [  14.617221 ,    5.6016107,  -15.081258 , ...,  -67.407166 ,\n",
       "          -37.531895 ,  -39.12289  ],\n",
       "        [  20.450853 ,   -8.5405245,  -29.753727 , ...,   81.792366 ,\n",
       "           19.390184 ,   51.38677  ],\n",
       "        ...,\n",
       "        [  -8.198018 ,   -1.834059 ,   37.763916 , ...,  -96.763145 ,\n",
       "          -63.70589  ,  -94.46504  ],\n",
       "        [  24.991804 ,  -10.009979 ,  -28.92508  , ...,  -89.91304  ,\n",
       "          -58.093235 , -110.77268  ],\n",
       "        [ -49.177063 ,  -69.85994  ,   34.084755 , ...,   -6.0435543,\n",
       "          -55.894577 ,  -72.865135 ]], dtype=float32),\n",
       " 'energies': array([0, 0, 0, ..., 0, 0, 0], dtype=uint16),\n",
       " 'channels': array([ 2,  2,  2, ..., 43, 43, 43], dtype=uint32),\n",
       " 'detectors': array(['V08682B', 'V08682B', 'V08682B', ..., 'V07647B', 'V07647B',\n",
       "        'V07647B'], dtype='<U7'),\n",
       " 'cc4s': array(['A1', 'A1', 'A1', ..., 'F2', 'F2', 'F2'], dtype='<U2'),\n",
       " 'hv_slots': array(['2', '2', '2', ..., '2', '2', '2'], dtype='<U1'),\n",
       " 'strings': array(['8', '8', '8', ..., '7', '7', '7'], dtype='<U1')}"
      ]
     },
     "execution_count": 2,
     "metadata": {},
     "output_type": "execute_result"
    }
   ],
   "source": [
    "#Load trained SVM\n",
    "\n",
    "svm = pickle.load(open('svm.sav', 'rb'))\n",
    "\n",
    "# Load data dict \n",
    "\n",
    "with open('data_dict_test.pickle', 'rb') as handle:\n",
    "    data_dict = pickle.load(handle)\n",
    "data_dict "
   ]
  },
  {
   "cell_type": "code",
   "execution_count": 3,
   "metadata": {
    "tags": []
   },
   "outputs": [
    {
     "name": "stdout",
     "output_type": "stream",
     "text": [
      "(26059, 256)\n"
     ]
    }
   ],
   "source": [
    "#Normalize dwts\n",
    "\n",
    "dwts = data_dict['dwts']\n",
    "dwts_norm = np.zeros(dwts.shape)\n",
    "for i in range(dwts.shape[0]):\n",
    "    maximum, minimum = np.amax(dwts[i,:]), np.amin(dwts[i,:])\n",
    "    if abs(maximum) >= abs(minimum) and maximum != 0:\n",
    "        dwts_norm[i,:] = dwts[i,:]/maximum\n",
    "    elif abs(maximum) < abs(minimum) and minimum != 0:\n",
    "        dwts_norm[i,:] = dwts[i,:]/(-1*minimum)\n",
    "    elif maximum == 0 or minimum == 0:\n",
    "        dwts_norm[i,:] = dwts[i,:]\n",
    "print(dwts_norm.shape)  "
   ]
  },
  {
   "cell_type": "code",
   "execution_count": 5,
   "metadata": {},
   "outputs": [
    {
     "name": "stdout",
     "output_type": "stream",
     "text": [
      "--- 7.8073906898498535 seconds ---\n"
     ]
    }
   ],
   "source": [
    "#Predict labels \n",
    "\n",
    "start_time = time.time()\n",
    "predicted_labels = svm.predict(dwts_norm)\n",
    "print(\"--- %s seconds ---\" % (time.time() - start_time))\n",
    "\n",
    "#Save predicted labels\n",
    "\n",
    "np.save('svm_labels.npy', predicted_labels)"
   ]
  },
  {
   "cell_type": "code",
   "execution_count": null,
   "metadata": {},
   "outputs": [],
   "source": []
  }
 ],
 "metadata": {
  "kernelspec": {
   "display_name": "pytorch_gpu_kernel",
   "language": "python",
   "name": "pytorch_gpu_env"
  },
  "language_info": {
   "codemirror_mode": {
    "name": "ipython",
    "version": 3
   },
   "file_extension": ".py",
   "mimetype": "text/x-python",
   "name": "python",
   "nbconvert_exporter": "python",
   "pygments_lexer": "ipython3",
   "version": "3.9.12"
  }
 },
 "nbformat": 4,
 "nbformat_minor": 4
}
