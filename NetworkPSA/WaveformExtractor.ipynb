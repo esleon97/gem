{
 "cells": [
  {
   "cell_type": "code",
   "execution_count": null,
   "metadata": {},
   "outputs": [],
   "source": [
    "#You must install root_numpy in order to use this code, just shift-click this code block to install\n",
    "pip install root_numpy --user"
   ]
  },
  {
   "cell_type": "code",
   "execution_count": null,
   "metadata": {},
   "outputs": [],
   "source": [
    "#You need the Majorana kernel to run this code, the kernel can be setup using the shift image\n",
    "import numpy as np\n",
    "from root_numpy import array, root2array, tree2array\n",
    "import matplotlib\n",
    "matplotlib.use('Agg')\n",
    "import matplotlib.pyplot as plt\n",
    "from tqdm import tqdm\n",
    "import pickle\n",
    "import os\n",
    "\n",
    "from ROOT import GATDataSet, TFile, TTree, MJTMSWaveform, MGTWaveform\n",
    "from settings import *"
   ]
  },
  {
   "cell_type": "code",
   "execution_count": null,
   "metadata": {},
   "outputs": [],
   "source": [
    "#Convert ROOT vector to numpy array, unfortunately this is slow, but np.array(ROOTTArray) does not work for unknown reason.\n",
    "def wfconverter(wf):\n",
    "    output = []\n",
    "    for i in range(wf.size()):\n",
    "        output.append(wf[i])\n",
    "    return np.array(output)\n",
    "\n",
    "#Select DEP/SEP events using skim file, then extract waveform using Clint's code\n",
    "def get_peak(filename, elow, ehi,skimPath=DS6Cal,subsample=0.1):\n",
    "    '''\n",
    "    filename: the output .pickle file name you'd like to save\n",
    "    elow: the lower energy bound of the peak\n",
    "    ehi: the upper energy bound of the peak\n",
    "    skimPath: the path to skim file directories\n",
    "    subsample: the percentage of data to randomly sample from the peak\n",
    "    '''\n",
    "    with open(filename, 'wb') as handle:\n",
    "        for file in tqdm(os.listdir(skimPath)):\n",
    "            f1 = TFile(os.path.join(skimPath, file))\n",
    "            tree = f1.Get(\"skimTree\")\n",
    "            array = tree2array(tree,\\\n",
    "                               branches=['run', 'iEvent', 'iHit', 'avse_corr','detName','Final_Energy','tDrift'], #The field to read out from skim file\n",
    "                               selection='Final_Energy[0] > %.3f && Final_Energy[0] < %.3f && channel[0] == 626 && isGood && isLNFill1==0 && isLNFill2 == 0 && wfDCBits==0 && muVeto==0 && mH == 1 && mL == 1'%(elow, ehi) # The datacleaning and energy cuts\n",
    "                              )\n",
    "            if len(array) == 0:\n",
    "                continue\n",
    "            run = int(array[0][0])\n",
    "            gds = GATDataSet(run)\n",
    "            tt_gat = gds.GetGatifiedChain()\n",
    "            tt_blt = gds.GetBuiltChain()\n",
    "            tt_gat.AddFriend(tt_blt)\n",
    "            tt_gat.GetEntry(0)\n",
    "            is_ms = tt_blt.run.GetUseMultisampling()\n",
    "            \n",
    "            # This part of the code is originated from Clint's waveform reader\n",
    "            # For each event, read out the waveform accoding to run, iE and iH\n",
    "            for run, iE, iH, AvsE, detector, energy,tDrift in array:\n",
    "                #Randomly sample {subsample} fraction of events\n",
    "                if np.random.rand() < (1-subsample):\n",
    "                    continue\n",
    "                #Selecting only the low gain channel\n",
    "                iH = int(iH[0])\n",
    "                AvsE = float(AvsE[0])\n",
    "                energy = float(energy[0])\n",
    "                detector = str(detector[0])\n",
    "                tDrift = float(tDrift[0])\n",
    "                \n",
    "                tt_gat.GetEntry(iE)\n",
    "                event = tt_gat.event\n",
    "                t_off = tt_gat.tOffset.at(iH)\n",
    "                if is_ms:\n",
    "                    wfdown = tt_gat.event.GetWaveform(iH) # downsampled\n",
    "                    wffull = tt_gat.event.GetAuxWaveform(iH) # fully sampled\n",
    "                    wf = MJTMSWaveform(wfdown, wffull)\n",
    "                else:\n",
    "                    wf = tt_gat.event.GetWaveform(iH)\n",
    "                period = wf.GetSamplingPeriod()\n",
    "                wf = wfconverter(wf.GetVectorData())\n",
    "\n",
    "                event_dict = {\n",
    "                    \"avse\":AvsE,\\\n",
    "                    \"run\":run,\\\n",
    "                    \"event\":iE,\\\n",
    "                    \"energy\":energy,\\\n",
    "                    \"detector\":detector,\\\n",
    "                    \"tDrift\":tDrift,\\\n",
    "                    \"wf\":wf[:-2].astype(np.float32),\\#Save each wf as float32 to conserve space\n",
    "                    \"tstart\":t_off,\\\n",
    "                    \"period\":period\n",
    "                }\n",
    "                pickle.dump(event_dict, handle, protocol=pickle.HIGHEST_PROTOCOL)"
   ]
  },
  {
   "cell_type": "code",
   "execution_count": null,
   "metadata": {},
   "outputs": [],
   "source": [
    "get_peak(\"DEP_P42575A.pickle\",1590,1595,subsample=1.0)\n",
    "get_peak(\"SEP_P42575A.pickle\",2103.5-2.5,2103.5+2.5,subsample=1.0)"
   ]
  },
  {
   "cell_type": "code",
   "execution_count": null,
   "metadata": {},
   "outputs": [],
   "source": []
  }
 ],
 "metadata": {
  "kernelspec": {
   "display_name": "mjd-kernel",
   "language": "python",
   "name": "mjd-kernel"
  },
  "language_info": {
   "codemirror_mode": {
    "name": "ipython",
    "version": 3
   },
   "file_extension": ".py",
   "mimetype": "text/x-python",
   "name": "python",
   "nbconvert_exporter": "python",
   "pygments_lexer": "ipython3",
   "version": "3.8.5"
  }
 },
 "nbformat": 4,
 "nbformat_minor": 4
}
